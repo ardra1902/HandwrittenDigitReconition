{
  "nbformat": 4,
  "nbformat_minor": 0,
  "metadata": {
    "colab": {
      "provenance": []
    },
    "kernelspec": {
      "name": "python3",
      "display_name": "Python 3"
    },
    "language_info": {
      "name": "python"
    }
  },
  "cells": [
    {
      "cell_type": "markdown",
      "source": [
        "# **Objective**\n",
        "The Handwritten Digit Recognition is the ability of the computers to recognize the human handwritten digits. With the help of the dataset, this allows the model to analyze and predict the outcome of the number fed into the model with various flavors of the handwriting available.\n"
      ],
      "metadata": {
        "id": "-kjqvnz_e3cR"
      }
    },
    {
      "cell_type": "markdown",
      "source": [
        "# **Data** **Source**\n",
        "The datasets. load_digits() function helps to load and return the digit dataset. This classification contains data points, where each data point is an 8X8 image of a single digit."
      ],
      "metadata": {
        "id": "pqT53SGLfEot"
      }
    },
    {
      "cell_type": "markdown",
      "source": [
        "# **Import** **Library**"
      ],
      "metadata": {
        "id": "3JQ17oK2fN9v"
      }
    },
    {
      "cell_type": "code",
      "source": [
        "import pandas as pd\n",
        "import numpy as np\n",
        "import matplotlib.pyplot as plt\n"
      ],
      "metadata": {
        "id": "ab_vyaAAfZrj"
      },
      "execution_count": 1,
      "outputs": []
    },
    {
      "cell_type": "markdown",
      "source": [
        "# **Import** **Data**"
      ],
      "metadata": {
        "id": "XlqKQNIFfeHy"
      }
    },
    {
      "cell_type": "code",
      "source": [
        "from sklearn.datasets import load_digits\n",
        "df=load_digits()\n",
        "_,axes=plt.subplots(nrows=1,ncols=4,figsize=(10,3))\n",
        "for ax, image,label in zip(axes,df.images,df.target):\n",
        "    ax.set_axis_off()\n",
        "    ax.imshow(image,cmap=plt.cm.gray_r,interpolation=\"nearest\")\n",
        "    ax.set_title(\"Training:%i\" %label)\n"
      ],
      "metadata": {
        "colab": {
          "base_uri": "https://localhost:8080/",
          "height": 227
        },
        "id": "3YWJWThWfjxO",
        "outputId": "acc503c3-be29-4630-ed34-192421a5e8ac"
      },
      "execution_count": 2,
      "outputs": [
        {
          "output_type": "display_data",
          "data": {
            "text/plain": [
              "<Figure size 1000x300 with 4 Axes>"
            ],
            "image/png": "[encoded data removed]"
          },
          "metadata": {}
        }
      ]
    },
    {
      "cell_type": "markdown",
      "source": [
        "# **Describe** **Data**\n",
        "The digit dataset consists of 8*8 pixel images of digits. The images attribute of the dataset stores 8*8 arrays of grayscale values for each image.We will use these arrays to visualize the first 4 images. The target attribute of the dataset stores the digit each image represents"
      ],
      "metadata": {
        "id": "grnrS0EQfniQ"
      }
    },
    {
      "cell_type": "markdown",
      "source": [
        "## **Data Preprocessing**"
      ],
      "metadata": {
        "id": "QevP5SvygHj6"
      }
    },
    {
      "cell_type": "code",
      "source": [
        "df.images.shape"
      ],
      "metadata": {
        "colab": {
          "base_uri": "https://localhost:8080/"
        },
        "id": "McrfpNJIgLvy",
        "outputId": "5e2c0b83-a2d8-454d-b33d-36ae0b1e90cc"
      },
      "execution_count": 4,
      "outputs": [
        {
          "output_type": "execute_result",
          "data": {
            "text/plain": [
              "(1797, 8, 8)"
            ]
          },
          "metadata": {},
          "execution_count": 4
        }
      ]
    },
    {
      "cell_type": "code",
      "source": [
        "df.images[0]"
      ],
      "metadata": {
        "colab": {
          "base_uri": "https://localhost:8080/"
        },
        "id": "LTB6xfCAgdyT",
        "outputId": "4c903fad-fbfa-4684-936b-5f99a65b504d"
      },
      "execution_count": 5,
      "outputs": [
        {
          "output_type": "execute_result",
          "data": {
            "text/plain": [
              "array([[ 0.,  0.,  5., 13.,  9.,  1.,  0.,  0.],\n",
              "       [ 0.,  0., 13., 15., 10., 15.,  5.,  0.],\n",
              "       [ 0.,  3., 15.,  2.,  0., 11.,  8.,  0.],\n",
              "       [ 0.,  4., 12.,  0.,  0.,  8.,  8.,  0.],\n",
              "       [ 0.,  5.,  8.,  0.,  0.,  9.,  8.,  0.],\n",
              "       [ 0.,  4., 11.,  0.,  1., 12.,  7.,  0.],\n",
              "       [ 0.,  2., 14.,  5., 10., 12.,  0.,  0.],\n",
              "       [ 0.,  0.,  6., 13., 10.,  0.,  0.,  0.]])"
            ]
          },
          "metadata": {},
          "execution_count": 5
        }
      ]
    },
    {
      "cell_type": "code",
      "source": [
        "df.images[0].shape"
      ],
      "metadata": {
        "colab": {
          "base_uri": "https://localhost:8080/"
        },
        "id": "52hJwKDDghXJ",
        "outputId": "b46c8272-db60-419a-d035-6394bc70fdc7"
      },
      "execution_count": 6,
      "outputs": [
        {
          "output_type": "execute_result",
          "data": {
            "text/plain": [
              "(8, 8)"
            ]
          },
          "metadata": {},
          "execution_count": 6
        }
      ]
    },
    {
      "cell_type": "code",
      "source": [
        "len(df.images)"
      ],
      "metadata": {
        "colab": {
          "base_uri": "https://localhost:8080/"
        },
        "id": "LnawDemlgkab",
        "outputId": "71931f09-1878-457c-9a64-100d172da917"
      },
      "execution_count": 7,
      "outputs": [
        {
          "output_type": "execute_result",
          "data": {
            "text/plain": [
              "1797"
            ]
          },
          "metadata": {},
          "execution_count": 7
        }
      ]
    },
    {
      "cell_type": "code",
      "source": [
        "n_samples=len(df.images)"
      ],
      "metadata": {
        "id": "gXIVKXTggnqQ"
      },
      "execution_count": 8,
      "outputs": []
    },
    {
      "cell_type": "code",
      "source": [
        "data=df.images.reshape((n_samples,-1))"
      ],
      "metadata": {
        "id": "Q2dPrSPSgrEC"
      },
      "execution_count": 9,
      "outputs": []
    },
    {
      "cell_type": "code",
      "source": [
        "data[0]"
      ],
      "metadata": {
        "colab": {
          "base_uri": "https://localhost:8080/"
        },
        "id": "-eXK-np1gvdg",
        "outputId": "993b87fc-74b5-4dc9-a238-7cf182e84f61"
      },
      "execution_count": 10,
      "outputs": [
        {
          "output_type": "execute_result",
          "data": {
            "text/plain": [
              "array([ 0.,  0.,  5., 13.,  9.,  1.,  0.,  0.,  0.,  0., 13., 15., 10.,\n",
              "       15.,  5.,  0.,  0.,  3., 15.,  2.,  0., 11.,  8.,  0.,  0.,  4.,\n",
              "       12.,  0.,  0.,  8.,  8.,  0.,  0.,  5.,  8.,  0.,  0.,  9.,  8.,\n",
              "        0.,  0.,  4., 11.,  0.,  1., 12.,  7.,  0.,  0.,  2., 14.,  5.,\n",
              "       10., 12.,  0.,  0.,  0.,  0.,  6., 13., 10.,  0.,  0.,  0.])"
            ]
          },
          "metadata": {},
          "execution_count": 10
        }
      ]
    },
    {
      "cell_type": "code",
      "source": [
        "data[0].shape"
      ],
      "metadata": {
        "colab": {
          "base_uri": "https://localhost:8080/"
        },
        "id": "Wf3WlbDggwYC",
        "outputId": "291ae8db-922b-4c27-bbb0-56b6f274ba41"
      },
      "execution_count": 11,
      "outputs": [
        {
          "output_type": "execute_result",
          "data": {
            "text/plain": [
              "(64,)"
            ]
          },
          "metadata": {},
          "execution_count": 11
        }
      ]
    },
    {
      "cell_type": "code",
      "source": [
        "data.shape"
      ],
      "metadata": {
        "colab": {
          "base_uri": "https://localhost:8080/"
        },
        "id": "dkVc-2-og2zh",
        "outputId": "3bf46847-2431-46f1-bf85-545ab6acd5f5"
      },
      "execution_count": 12,
      "outputs": [
        {
          "output_type": "execute_result",
          "data": {
            "text/plain": [
              "(1797, 64)"
            ]
          },
          "metadata": {},
          "execution_count": 12
        }
      ]
    },
    {
      "cell_type": "markdown",
      "source": [
        "# **Scaling Image** **Data**"
      ],
      "metadata": {
        "id": "cZG0zFf8g7uE"
      }
    },
    {
      "cell_type": "code",
      "source": [
        "data.min()"
      ],
      "metadata": {
        "colab": {
          "base_uri": "https://localhost:8080/"
        },
        "id": "XtVTR__AhEEJ",
        "outputId": "f66f1828-69fb-4f3c-a6b9-3796ccb24931"
      },
      "execution_count": 13,
      "outputs": [
        {
          "output_type": "execute_result",
          "data": {
            "text/plain": [
              "0.0"
            ]
          },
          "metadata": {},
          "execution_count": 13
        }
      ]
    },
    {
      "cell_type": "code",
      "source": [
        "data.max()"
      ],
      "metadata": {
        "colab": {
          "base_uri": "https://localhost:8080/"
        },
        "id": "F0cM8skPhO61",
        "outputId": "38ebf036-9e4d-4d5c-d1be-915c2c4426bb"
      },
      "execution_count": 14,
      "outputs": [
        {
          "output_type": "execute_result",
          "data": {
            "text/plain": [
              "16.0"
            ]
          },
          "metadata": {},
          "execution_count": 14
        }
      ]
    },
    {
      "cell_type": "code",
      "source": [
        "data=data/16"
      ],
      "metadata": {
        "id": "a-Me_C7ihXu-"
      },
      "execution_count": 15,
      "outputs": []
    },
    {
      "cell_type": "code",
      "source": [
        "data.min()"
      ],
      "metadata": {
        "colab": {
          "base_uri": "https://localhost:8080/"
        },
        "id": "TIgx5o1mhaC6",
        "outputId": "b4dd68b3-e045-4a0a-ba60-8b5e5e554405"
      },
      "execution_count": 16,
      "outputs": [
        {
          "output_type": "execute_result",
          "data": {
            "text/plain": [
              "0.0"
            ]
          },
          "metadata": {},
          "execution_count": 16
        }
      ]
    },
    {
      "cell_type": "code",
      "source": [
        "data.max()"
      ],
      "metadata": {
        "colab": {
          "base_uri": "https://localhost:8080/"
        },
        "id": "NMpJp9jrhcZD",
        "outputId": "817e7d92-066d-4b20-ee4b-1fb2b51b4962"
      },
      "execution_count": 17,
      "outputs": [
        {
          "output_type": "execute_result",
          "data": {
            "text/plain": [
              "1.0"
            ]
          },
          "metadata": {},
          "execution_count": 17
        }
      ]
    },
    {
      "cell_type": "code",
      "source": [
        "data[0]"
      ],
      "metadata": {
        "colab": {
          "base_uri": "https://localhost:8080/"
        },
        "id": "SMlIaoHNhhZb",
        "outputId": "f4141926-40bb-42f9-9430-a0d31541538f"
      },
      "execution_count": 18,
      "outputs": [
        {
          "output_type": "execute_result",
          "data": {
            "text/plain": [
              "array([0.    , 0.    , 0.3125, 0.8125, 0.5625, 0.0625, 0.    , 0.    ,\n",
              "       0.    , 0.    , 0.8125, 0.9375, 0.625 , 0.9375, 0.3125, 0.    ,\n",
              "       0.    , 0.1875, 0.9375, 0.125 , 0.    , 0.6875, 0.5   , 0.    ,\n",
              "       0.    , 0.25  , 0.75  , 0.    , 0.    , 0.5   , 0.5   , 0.    ,\n",
              "       0.    , 0.3125, 0.5   , 0.    , 0.    , 0.5625, 0.5   , 0.    ,\n",
              "       0.    , 0.25  , 0.6875, 0.    , 0.0625, 0.75  , 0.4375, 0.    ,\n",
              "       0.    , 0.125 , 0.875 , 0.3125, 0.625 , 0.75  , 0.    , 0.    ,\n",
              "       0.    , 0.    , 0.375 , 0.8125, 0.625 , 0.    , 0.    , 0.    ])"
            ]
          },
          "metadata": {},
          "execution_count": 18
        }
      ]
    },
    {
      "cell_type": "markdown",
      "source": [
        "# **Train Test Split Data**"
      ],
      "metadata": {
        "id": "SxUmFexzhijH"
      }
    },
    {
      "cell_type": "code",
      "source": [
        "from sklearn.model_selection import train_test_split"
      ],
      "metadata": {
        "id": "Yu6scTk1hoej"
      },
      "execution_count": 19,
      "outputs": []
    },
    {
      "cell_type": "code",
      "source": [
        "X_train,X_test,y_train,y_test=train_test_split(data,df.target,test_size=0.3)"
      ],
      "metadata": {
        "id": "x2s92DWyhvpP"
      },
      "execution_count": 20,
      "outputs": []
    },
    {
      "cell_type": "code",
      "source": [
        "X_train.shape,X_test.shape,y_train.shape,y_test.shape"
      ],
      "metadata": {
        "colab": {
          "base_uri": "https://localhost:8080/"
        },
        "id": "2PfTi39fh25T",
        "outputId": "2d035ca8-3585-46dd-9f91-562f78bc6e03"
      },
      "execution_count": 21,
      "outputs": [
        {
          "output_type": "execute_result",
          "data": {
            "text/plain": [
              "((1257, 64), (540, 64), (1257,), (540,))"
            ]
          },
          "metadata": {},
          "execution_count": 21
        }
      ]
    },
    {
      "cell_type": "markdown",
      "source": [
        "# **Random Forest Model**"
      ],
      "metadata": {
        "id": "21oPai7wh7yv"
      }
    },
    {
      "cell_type": "code",
      "source": [
        "from sklearn.ensemble import RandomForestClassifier\n",
        "rf=RandomForestClassifier()\n",
        "rf.fit(X_train,y_train)"
      ],
      "metadata": {
        "colab": {
          "base_uri": "https://localhost:8080/",
          "height": 74
        },
        "id": "HZCS7Zb5iCaV",
        "outputId": "987d7e74-0097-4494-d941-c4b885c6f6ea"
      },
      "execution_count": 22,
      "outputs": [
        {
          "output_type": "execute_result",
          "data": {
            "text/plain": [
              "RandomForestClassifier()"
            ],
            "text/html": [
              "<style>#sk-container-id-1 {color: black;background-color: white;}#sk-container-id-1 pre{padding: 0;}#sk-container-id-1 div.sk-toggleable {background-color: white;}#sk-container-id-1 label.sk-toggleable__label {cursor: pointer;display: block;width: 100%;margin-bottom: 0;padding: 0.3em;box-sizing: border-box;text-align: center;}#sk-container-id-1 label.sk-toggleable__label-arrow:before {content: \"▸\";float: left;margin-right: 0.25em;color: #696969;}#sk-container-id-1 label.sk-toggleable__label-arrow:hover:before {color: black;}#sk-container-id-1 div.sk-estimator:hover label.sk-toggleable__label-arrow:before {color: black;}#sk-container-id-1 div.sk-toggleable__content {max-height: 0;max-width: 0;overflow: hidden;text-align: left;background-color: #f0f8ff;}#sk-container-id-1 div.sk-toggleable__content pre {margin: 0.2em;color: black;border-radius: 0.25em;background-color: #f0f8ff;}#sk-container-id-1 input.sk-toggleable__control:checked~div.sk-toggleable__content {max-height: 200px;max-width: 100%;overflow: auto;}#sk-container-id-1 input.sk-toggleable__control:checked~label.sk-toggleable__label-arrow:before {content: \"▾\";}#sk-container-id-1 div.sk-estimator input.sk-toggleable__control:checked~label.sk-toggleable__label {background-color: #d4ebff;}#sk-container-id-1 div.sk-label input.sk-toggleable__control:checked~label.sk-toggleable__label {background-color: #d4ebff;}#sk-container-id-1 input.sk-hidden--visually {border: 0;clip: rect(1px 1px 1px 1px);clip: rect(1px, 1px, 1px, 1px);height: 1px;margin: -1px;overflow: hidden;padding: 0;position: absolute;width: 1px;}#sk-container-id-1 div.sk-estimator {font-family: monospace;background-color: #f0f8ff;border: 1px dotted black;border-radius: 0.25em;box-sizing: border-box;margin-bottom: 0.5em;}#sk-container-id-1 div.sk-estimator:hover {background-color: #d4ebff;}#sk-container-id-1 div.sk-parallel-item::after {content: \"\";width: 100%;border-bottom: 1px solid gray;flex-grow: 1;}#sk-container-id-1 div.sk-label:hover label.sk-toggleable__label {background-color: #d4ebff;}#sk-container-id-1 div.sk-serial::before {content: \"\";position: absolute;border-left: 1px solid gray;box-sizing: border-box;top: 0;bottom: 0;left: 50%;z-index: 0;}#sk-container-id-1 div.sk-serial {display: flex;flex-direction: column;align-items: center;background-color: white;padding-right: 0.2em;padding-left: 0.2em;position: relative;}#sk-container-id-1 div.sk-item {position: relative;z-index: 1;}#sk-container-id-1 div.sk-parallel {display: flex;align-items: stretch;justify-content: center;background-color: white;position: relative;}#sk-container-id-1 div.sk-item::before, #sk-container-id-1 div.sk-parallel-item::before {content: \"\";position: absolute;border-left: 1px solid gray;box-sizing: border-box;top: 0;bottom: 0;left: 50%;z-index: -1;}#sk-container-id-1 div.sk-parallel-item {display: flex;flex-direction: column;z-index: 1;position: relative;background-color: white;}#sk-container-id-1 div.sk-parallel-item:first-child::after {align-self: flex-end;width: 50%;}#sk-container-id-1 div.sk-parallel-item:last-child::after {align-self: flex-start;width: 50%;}#sk-container-id-1 div.sk-parallel-item:only-child::after {width: 0;}#sk-container-id-1 div.sk-dashed-wrapped {border: 1px dashed gray;margin: 0 0.4em 0.5em 0.4em;box-sizing: border-box;padding-bottom: 0.4em;background-color: white;}#sk-container-id-1 div.sk-label label {font-family: monospace;font-weight: bold;display: inline-block;line-height: 1.2em;}#sk-container-id-1 div.sk-label-container {text-align: center;}#sk-container-id-1 div.sk-container {/* jupyter's `normalize.less` sets `[hidden] { display: none; }` but bootstrap.min.css set `[hidden] { display: none !important; }` so we also need the `!important` here to be able to override the default hidden behavior on the sphinx rendered scikit-learn.org. See: https://github.com/scikit-learn/scikit-learn/issues/21755 */display: inline-block !important;position: relative;}#sk-container-id-1 div.sk-text-repr-fallback {display: none;}</style><div id=\"sk-container-id-1\" class=\"sk-top-container\"><div class=\"sk-text-repr-fallback\"><pre>RandomForestClassifier()</pre><b>In a Jupyter environment, please rerun this cell to show the HTML representation or trust the notebook. <br />On GitHub, the HTML representation is unable to render, please try loading this page with nbviewer.org.</b></div><div class=\"sk-container\" hidden><div class=\"sk-item\"><div class=\"sk-estimator sk-toggleable\"><input class=\"sk-toggleable__control sk-hidden--visually\" id=\"sk-estimator-id-1\" type=\"checkbox\" checked><label for=\"sk-estimator-id-1\" class=\"sk-toggleable__label sk-toggleable__label-arrow\">RandomForestClassifier</label><div class=\"sk-toggleable__content\"><pre>RandomForestClassifier()</pre></div></div></div></div></div>"
            ]
          },
          "metadata": {},
          "execution_count": 22
        }
      ]
    },
    {
      "cell_type": "markdown",
      "source": [
        "# **Predict Test Data**"
      ],
      "metadata": {
        "id": "2NNZoHuLiKfH"
      }
    },
    {
      "cell_type": "code",
      "source": [
        "y_pred=rf.predict(X_test)\n",
        "y_pred"
      ],
      "metadata": {
        "colab": {
          "base_uri": "https://localhost:8080/"
        },
        "id": "QCwqGjDBiOvq",
        "outputId": "5fa1dff9-a459-40df-e37b-1b61e17c6128"
      },
      "execution_count": 23,
      "outputs": [
        {
          "output_type": "execute_result",
          "data": {
            "text/plain": [
              "array([9, 8, 7, 7, 4, 7, 5, 7, 9, 2, 2, 8, 9, 3, 6, 8, 5, 9, 2, 7, 2, 6,\n",
              "       7, 0, 5, 0, 1, 5, 6, 3, 7, 8, 7, 6, 1, 5, 4, 3, 6, 2, 9, 0, 8, 9,\n",
              "       8, 5, 4, 3, 3, 0, 3, 5, 6, 5, 0, 9, 7, 4, 1, 2, 8, 1, 9, 4, 2, 4,\n",
              "       8, 6, 4, 4, 4, 0, 6, 8, 0, 4, 6, 9, 2, 0, 4, 2, 0, 5, 1, 1, 1, 5,\n",
              "       2, 8, 5, 8, 1, 3, 6, 7, 3, 5, 5, 0, 5, 0, 5, 0, 4, 1, 1, 2, 8, 2,\n",
              "       2, 3, 9, 2, 8, 4, 4, 6, 7, 1, 0, 9, 1, 7, 9, 3, 1, 1, 5, 8, 1, 4,\n",
              "       3, 0, 0, 5, 8, 3, 5, 4, 9, 1, 8, 8, 6, 7, 7, 2, 6, 8, 7, 3, 2, 9,\n",
              "       7, 4, 6, 0, 0, 8, 9, 4, 3, 3, 9, 6, 0, 3, 6, 8, 1, 8, 8, 4, 8, 8,\n",
              "       3, 9, 4, 4, 2, 6, 6, 8, 5, 9, 3, 3, 7, 9, 6, 4, 7, 9, 2, 5, 3, 1,\n",
              "       0, 0, 7, 2, 5, 5, 0, 4, 0, 3, 4, 7, 3, 5, 0, 0, 0, 6, 9, 0, 1, 5,\n",
              "       2, 7, 4, 2, 2, 9, 8, 2, 3, 3, 7, 4, 8, 8, 8, 4, 2, 2, 2, 4, 8, 4,\n",
              "       7, 5, 2, 3, 4, 5, 3, 8, 2, 1, 2, 2, 1, 1, 4, 4, 1, 2, 5, 4, 0, 7,\n",
              "       5, 8, 9, 2, 5, 4, 1, 4, 1, 3, 7, 2, 8, 7, 5, 9, 3, 9, 6, 4, 3, 2,\n",
              "       7, 3, 1, 7, 7, 0, 2, 9, 1, 5, 2, 1, 2, 2, 1, 5, 7, 5, 3, 7, 5, 7,\n",
              "       5, 9, 9, 0, 7, 8, 0, 5, 4, 0, 0, 7, 7, 5, 1, 1, 4, 2, 9, 4, 7, 5,\n",
              "       2, 8, 2, 6, 1, 4, 6, 0, 7, 5, 7, 7, 6, 6, 3, 7, 0, 5, 9, 6, 9, 0,\n",
              "       5, 9, 0, 0, 9, 3, 2, 6, 6, 0, 1, 1, 7, 6, 3, 7, 3, 3, 6, 7, 4, 9,\n",
              "       8, 2, 5, 6, 1, 4, 6, 8, 6, 9, 6, 9, 2, 0, 3, 1, 4, 8, 0, 3, 9, 4,\n",
              "       1, 3, 5, 1, 3, 5, 4, 5, 2, 5, 5, 6, 7, 2, 9, 0, 8, 7, 0, 0, 3, 4,\n",
              "       9, 7, 8, 0, 4, 7, 6, 9, 8, 2, 1, 3, 9, 1, 1, 0, 3, 9, 6, 6, 8, 8,\n",
              "       8, 5, 5, 8, 9, 8, 9, 0, 6, 3, 9, 2, 6, 0, 3, 9, 0, 4, 4, 1, 1, 1,\n",
              "       1, 0, 1, 0, 2, 6, 5, 7, 8, 4, 6, 6, 7, 8, 7, 3, 5, 5, 8, 6, 5, 4,\n",
              "       0, 5, 3, 0, 5, 6, 2, 9, 1, 0, 2, 5, 3, 9, 3, 1, 8, 1, 6, 8, 1, 9,\n",
              "       2, 6, 4, 7, 5, 5, 6, 0, 3, 9, 7, 9, 5, 9, 9, 9, 5, 4, 7, 1, 5, 4,\n",
              "       9, 3, 9, 8, 1, 1, 6, 9, 3, 3, 9, 3])"
            ]
          },
          "metadata": {},
          "execution_count": 23
        }
      ]
    },
    {
      "cell_type": "markdown",
      "source": [
        "# **Model Accuracy**"
      ],
      "metadata": {
        "id": "sZFlOkzziTwB"
      }
    },
    {
      "cell_type": "code",
      "source": [
        "from sklearn.metrics import confusion_matrix,classification_report\n",
        "confusion_matrix(y_test,y_pred)"
      ],
      "metadata": {
        "colab": {
          "base_uri": "https://localhost:8080/"
        },
        "id": "snHhya6RiW-z",
        "outputId": "7efb882a-d204-4b7a-ef70-ad46505f841a"
      },
      "execution_count": 24,
      "outputs": [
        {
          "output_type": "execute_result",
          "data": {
            "text/plain": [
              "array([[54,  0,  0,  0,  1,  0,  0,  0,  0,  0],\n",
              "       [ 0, 49,  0,  0,  0,  1,  0,  0,  0,  0],\n",
              "       [ 0,  1, 51,  0,  0,  0,  0,  0,  0,  0],\n",
              "       [ 0,  0,  0, 53,  0,  1,  0,  0,  1,  0],\n",
              "       [ 0,  0,  0,  0, 52,  0,  0,  0,  1,  0],\n",
              "       [ 0,  0,  0,  0,  0, 56,  0,  0,  0,  0],\n",
              "       [ 0,  0,  0,  0,  1,  1, 49,  0,  0,  0],\n",
              "       [ 0,  0,  0,  0,  0,  0,  0, 52,  0,  0],\n",
              "       [ 0,  3,  1,  0,  0,  1,  0,  0, 49,  0],\n",
              "       [ 0,  0,  0,  1,  0,  1,  0,  1,  1, 58]])"
            ]
          },
          "metadata": {},
          "execution_count": 24
        }
      ]
    },
    {
      "cell_type": "code",
      "source": [
        "print(classification_report(y_test,y_pred))"
      ],
      "metadata": {
        "colab": {
          "base_uri": "https://localhost:8080/"
        },
        "id": "9V5NNqvOicVJ",
        "outputId": "76613798-10f8-45fc-9a8e-0f6b3197210d"
      },
      "execution_count": 25,
      "outputs": [
        {
          "output_type": "stream",
          "name": "stdout",
          "text": [
            "              precision    recall  f1-score   support\n",
            "\n",
            "           0       1.00      0.98      0.99        55\n",
            "           1       0.92      0.98      0.95        50\n",
            "           2       0.98      0.98      0.98        52\n",
            "           3       0.98      0.96      0.97        55\n",
            "           4       0.96      0.98      0.97        53\n",
            "           5       0.92      1.00      0.96        56\n",
            "           6       1.00      0.96      0.98        51\n",
            "           7       0.98      1.00      0.99        52\n",
            "           8       0.94      0.91      0.92        54\n",
            "           9       1.00      0.94      0.97        62\n",
            "\n",
            "    accuracy                           0.97       540\n",
            "   macro avg       0.97      0.97      0.97       540\n",
            "weighted avg       0.97      0.97      0.97       540\n",
            "\n"
          ]
        }
      ]
    }
  ]
}